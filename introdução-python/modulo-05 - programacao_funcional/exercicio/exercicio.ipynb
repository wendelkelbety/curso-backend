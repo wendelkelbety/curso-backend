{
 "cells": [
  {
   "cell_type": "code",
   "execution_count": 1,
   "metadata": {},
   "outputs": [
    {
     "name": "stdout",
     "output_type": "stream",
     "text": [
      "Writing credito.csv\n"
     ]
    }
   ],
   "source": [
    "%%writefile credito.csv\n",
    "id_vendedor,valor_emprestimos,quantidade_emprestimos,data\n",
    "104271,448.0,1,20161208\n",
    "21476,826.7,3,20161208\n",
    "87440,313.6,3,20161208\n",
    "15980,-8008.0,6,20161208\n",
    "215906,2212.0,5,20161208\n",
    "33696,2771.3,2,20161208\n",
    "33893,2240.0,3,20161208\n",
    "214946,-4151.0,18,20161208\n",
    "123974,2021.95,2,20161208\n",
    "225870,4039.0,2,20161208"
   ]
  },
  {
   "cell_type": "code",
   "execution_count": 2,
   "metadata": {},
   "outputs": [],
   "source": [
    "emprestimos = []\n",
    "with open(file='./credito.csv', mode='r', encoding='utf8') as fp:\n",
    "    fp.readline() # cabeçalho\n",
    "    linha = fp.readline()\n",
    "    while linha:\n",
    "        linha_emprestimo = {}\n",
    "        linha_elementos = linha.strip().split(sep=',')\n",
    "        linha_emprestimo['id_vendedor'] = linha_elementos[0]\n",
    "        linha_emprestimo['valor_emprestimos'] = linha_elementos[1]\n",
    "        linha_emprestimo['quantidade_emprestimos'] = linha_elementos[2]\n",
    "        linha_emprestimo['data'] = linha_elementos[3]\n",
    "        emprestimos.append(linha_emprestimo)\n",
    "        linha = fp.readline()"
   ]
  },
  {
   "cell_type": "code",
   "execution_count": 3,
   "metadata": {},
   "outputs": [
    {
     "name": "stdout",
     "output_type": "stream",
     "text": [
      "{'id_vendedor': '104271', 'valor_emprestimos': '448.0', 'quantidade_emprestimos': '1', 'data': '20161208'}\n",
      "{'id_vendedor': '21476', 'valor_emprestimos': '826.7', 'quantidade_emprestimos': '3', 'data': '20161208'}\n",
      "{'id_vendedor': '87440', 'valor_emprestimos': '313.6', 'quantidade_emprestimos': '3', 'data': '20161208'}\n",
      "{'id_vendedor': '15980', 'valor_emprestimos': '-8008.0', 'quantidade_emprestimos': '6', 'data': '20161208'}\n",
      "{'id_vendedor': '215906', 'valor_emprestimos': '2212.0', 'quantidade_emprestimos': '5', 'data': '20161208'}\n",
      "{'id_vendedor': '33696', 'valor_emprestimos': '2771.3', 'quantidade_emprestimos': '2', 'data': '20161208'}\n",
      "{'id_vendedor': '33893', 'valor_emprestimos': '2240.0', 'quantidade_emprestimos': '3', 'data': '20161208'}\n",
      "{'id_vendedor': '214946', 'valor_emprestimos': '-4151.0', 'quantidade_emprestimos': '18', 'data': '20161208'}\n",
      "{'id_vendedor': '123974', 'valor_emprestimos': '2021.95', 'quantidade_emprestimos': '2', 'data': '20161208'}\n",
      "{'id_vendedor': '225870', 'valor_emprestimos': '4039.0', 'quantidade_emprestimos': '2', 'data': '20161208'}\n"
     ]
    }
   ],
   "source": [
    "for emprestimo in emprestimos:\n",
    "    print(emprestimo)"
   ]
  },
  {
   "attachments": {},
   "cell_type": "markdown",
   "metadata": {},
   "source": [
    "1. Função map\n",
    "Aplique a função map na lista de emprestimos para extrair os valores da chave\n",
    "valor_emprestimos na lista valor_emprestimos_lista . Faça também a conversão\n",
    "de str para float ."
   ]
  },
  {
   "cell_type": "code",
   "execution_count": 4,
   "metadata": {},
   "outputs": [],
   "source": [
    "valor_emprestimos_lista = list(map(lambda venda: float(venda['valor_emprestimos']), emprestimos))"
   ]
  },
  {
   "cell_type": "code",
   "execution_count": 5,
   "metadata": {},
   "outputs": [
    {
     "name": "stdout",
     "output_type": "stream",
     "text": [
      "[448.0, 826.7, 313.6, -8008.0, 2212.0, 2771.3, 2240.0, -4151.0, 2021.95, 4039.0]\n"
     ]
    }
   ],
   "source": [
    "print(valor_emprestimos_lista) # [448.0, 826.7, ..., 4039.0]"
   ]
  },
  {
   "attachments": {},
   "cell_type": "markdown",
   "metadata": {},
   "source": [
    "2. Função filter\n",
    "Aplique a função filter na lista de valor_emprestimos_lista para filtrar apenas os valores\n",
    "maiores que zero (os valores negativas são erros na base de dados). Salve os valores na lista\n",
    "valor_emprestimos_lista_filtrada ."
   ]
  },
  {
   "cell_type": "code",
   "execution_count": 6,
   "metadata": {},
   "outputs": [],
   "source": [
    "valor_emprestimos_lista_filtrada = list(filter(lambda positivos: positivos > 0, valor_emprestimos_lista))"
   ]
  },
  {
   "cell_type": "code",
   "execution_count": 7,
   "metadata": {},
   "outputs": [
    {
     "name": "stdout",
     "output_type": "stream",
     "text": [
      "[448.0, 826.7, 313.6, 2212.0, 2771.3, 2240.0, 2021.95, 4039.0]\n"
     ]
    }
   ],
   "source": [
    "print(valor_emprestimos_lista_filtrada) # [448.0, 826.7, ..., 4039.0]"
   ]
  },
  {
   "attachments": {},
   "cell_type": "markdown",
   "metadata": {},
   "source": [
    "3. Função reduce\n",
    "Com a nossa lista de valores de emprestimo pronta, vamos extrair algumas métricas.\n",
    "\n",
    "3.1. Função reduce para extrair a soma\n",
    "Aplique a função reduce para somar os elementos da lista\n",
    "valor_emprestimos_lista_filtrada na variavel soma_valor_emprestimos ."
   ]
  },
  {
   "cell_type": "code",
   "execution_count": 8,
   "metadata": {},
   "outputs": [],
   "source": [
    "from functools import reduce\n",
    "soma_valor_emprestimos = round(reduce(lambda x,y: x + y, valor_emprestimos_lista_filtrada), 2)"
   ]
  },
  {
   "cell_type": "code",
   "execution_count": 9,
   "metadata": {},
   "outputs": [
    {
     "name": "stdout",
     "output_type": "stream",
     "text": [
      "14872.55\n"
     ]
    }
   ],
   "source": [
    "print(soma_valor_emprestimos) # 14872.550000000001"
   ]
  },
  {
   "attachments": {},
   "cell_type": "markdown",
   "metadata": {},
   "source": [
    "3.2. Função reduce para extrair a media aritimética\n",
    "Aplique a função reduce para extrair a média aritimética (mais informações aqui) dos elementos\n",
    "da lista valor_emprestimos_lista_filtrada na variavel\n",
    "media_valor_emprestimos ."
   ]
  },
  {
   "cell_type": "code",
   "execution_count": 10,
   "metadata": {},
   "outputs": [],
   "source": [
    "from functools import reduce\n",
    "media_valor_emprestimos = round(reduce(lambda x,y: x + y,  valor_emprestimos_lista_filtrada) / len(valor_emprestimos_lista_filtrada), 2)"
   ]
  },
  {
   "cell_type": "code",
   "execution_count": 11,
   "metadata": {},
   "outputs": [
    {
     "name": "stdout",
     "output_type": "stream",
     "text": [
      "1859.07\n"
     ]
    }
   ],
   "source": [
    "print(media_valor_emprestimos) # 1859.0687500000001"
   ]
  },
  {
   "attachments": {},
   "cell_type": "markdown",
   "metadata": {},
   "source": [
    "3.3. (Desafio) Função reduce para extrair o desvio padrão\n",
    "Aplique a função reduce para extrair a média aritimética (mais informações aqui) dos elementos\n",
    "da lista valor_emprestimos_lista_filtrada na variavel\n",
    "desvio_padrao_valor_emprestimos ."
   ]
  },
  {
   "cell_type": "code",
   "execution_count": 52,
   "metadata": {},
   "outputs": [],
   "source": [
    "from functools import reduce\n",
    "#desvio_padrao_valor_emprestimos = list(reduce(lambda x,y: x+y, list(map(lambda num: num**2, map(lambda num: num - (reduce(lambda x, y: x + y, valor_emprestimos_lista_filtrada) / len(valor_emprestimos_lista_filtrada)), valor_emprestimos_lista_filtrada)))))\n",
    "media = reduce(lambda x, y: x + y, valor_emprestimos_lista_filtrada) / len(valor_emprestimos_lista_filtrada)\n",
    "diferenca = list(map(lambda num: num - media, valor_emprestimos_lista_filtrada))\n",
    "eleva_quadrado = list(map(lambda num: num**2, diferenca))\n",
    "soma = reduce(lambda x,y: x+y, eleva_quadrado)\n",
    "divisao = soma / (len(eleva_quadrado)-1)\n",
    "calculo_quadrado = float(divisao)**0.5\n",
    "\n",
    "desvio_padrao_valor_emprestimos = calculo_quadrado"
   ]
  },
  {
   "cell_type": "code",
   "execution_count": 53,
   "metadata": {},
   "outputs": [
    {
     "name": "stdout",
     "output_type": "stream",
     "text": [
      "1271.9972711497849\n"
     ]
    }
   ],
   "source": [
    "print(desvio_padrao_valor_emprestimos) # 1271.997271149785"
   ]
  }
 ],
 "metadata": {
  "kernelspec": {
   "display_name": "Python 3",
   "language": "python",
   "name": "python3"
  },
  "language_info": {
   "codemirror_mode": {
    "name": "ipython",
    "version": 3
   },
   "file_extension": ".py",
   "mimetype": "text/x-python",
   "name": "python",
   "nbconvert_exporter": "python",
   "pygments_lexer": "ipython3",
   "version": "3.9.6"
  },
  "orig_nbformat": 4
 },
 "nbformat": 4,
 "nbformat_minor": 2
}
