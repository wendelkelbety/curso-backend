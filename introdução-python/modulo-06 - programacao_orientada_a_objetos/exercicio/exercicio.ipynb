{
 "cells": [
  {
   "attachments": {},
   "cell_type": "markdown",
   "metadata": {},
   "source": [
    "0. Preparação do ambiente\n",
    "Neste exercício vamos trabalhar com os arquivos de csv e texto definidos abaixo. Execute cada\n",
    "uma das células de código para escrever os arquivos na sua máquina virtual.\n",
    "carros.csv: arquivo csv com informações sobre carros (venda, manutenção, portas, etc.)."
   ]
  },
  {
   "cell_type": "code",
   "execution_count": 3,
   "metadata": {},
   "outputs": [
    {
     "name": "stdout",
     "output_type": "stream",
     "text": [
      "Writing carros.csv\n"
     ]
    }
   ],
   "source": [
    "%%writefile carros.csv\n",
    "id,valor_venda,valor_manutencao,portas,pessoas,porta_malas\n",
    "1,vhigh,med,2,2,small\n",
    "2,med,vhigh,2,2,small\n",
    "3,low,vhigh,2,2,small\n",
    "4,low,high,2,2,small\n",
    "5,low,high,2,2,small\n",
    "6,low,high,4,4,big\n",
    "7,low,high,4,4,big\n",
    "8,low,med,2,2,small\n",
    "9,low,med,2,2,small\n",
    "10,low,med,2,2,small\n",
    "11,low,med,4,4,big\n",
    "12,low,low,2,2,small\n",
    "13,low,low,4,4,small\n",
    "14,low,low,4,4,med"
   ]
  },
  {
   "attachments": {},
   "cell_type": "markdown",
   "metadata": {},
   "source": [
    "musica.txt: arquivo texto com a letra da música Roda Viva do Chico Buarque."
   ]
  },
  {
   "cell_type": "code",
   "execution_count": 4,
   "metadata": {},
   "outputs": [
    {
     "name": "stdout",
     "output_type": "stream",
     "text": [
      "Writing musica.txt\n"
     ]
    }
   ],
   "source": [
    "%%writefile musica.txt\n",
    "Roda Viva\n",
    "Chico Buarque\n",
    "\n",
    "Tem dias que a gente se sente\n",
    "Como quem partiu ou morreu\n",
    "A gente estancou de repente\n",
    "Ou foi o mundo então que cresceu\n",
    "A gente quer ter voz ativa\n",
    "No nosso destino mandar\n",
    "Mas eis que chega a roda viva\n",
    "E carrega o destino pra lá\n",
    "\n",
    "Roda mundo, roda-gigante\n",
    "Roda moinho, roda pião\n",
    "\n",
    "O tempo rodou num instante\n",
    "Nas voltas do meu coração\n",
    "A gente vai contra a corrente\n",
    "Até não poder resistir\n",
    "Na volta do barco é que sente\n",
    "O quanto deixou de cumprir\n",
    "Faz tempo que a gente cultiva\n",
    "A mais linda roseira que há\n",
    "Mas eis que chega a roda viva\n",
    "E carrega a roseira pra lá\n",
    "\n",
    "Roda mundo, roda-gigante\n",
    "Roda moinho, roda pião"
   ]
  },
  {
   "attachments": {},
   "cell_type": "markdown",
   "metadata": {},
   "source": [
    "1. Classe para ler arquivos de texto\n",
    "\n",
    "Crie a classe ArquivoTexto . Ela deve conter os seguintes atributos:\n",
    "    self.arquivo : Atributo do tipo str com o nome do arquivo;\n",
    "    self.conteudo : Atributo do tipo list onde cada elemento é uma linha do arquivo;\n",
    "    \n",
    "A classe também deve conter o seguinte método:\n",
    "    self.extrair_linha : Método que recebe como parâmetro o número da linha e\n",
    "    retorna o seu conteúdo."
   ]
  },
  {
   "cell_type": "code",
   "execution_count": 50,
   "metadata": {},
   "outputs": [],
   "source": [
    "class ArquivoTexto(object):\n",
    "    def __init__(self, arquivo: str):\n",
    "        self.arquivo = arquivo\n",
    "        self.conteudo = self.extrair_conteudo()\n",
    "\n",
    "    def extrair_conteudo(self):\n",
    "        conteudo = None\n",
    "        with open(file=self.arquivo, mode='r', encoding='utf8') as arquivo:\n",
    "            conteudo = arquivo.readlines()\n",
    "        return conteudo\n",
    "\n",
    "    def extrair_linha(self, numero_linha: int):\n",
    "        linha_selecionada = ''\n",
    "        cont = 1\n",
    "\n",
    "        if numero_linha > len(self.conteudo):\n",
    "            return\n",
    "\n",
    "        for linha in self.conteudo:\n",
    "            if cont == numero_linha:\n",
    "                linha_selecionada = linha\n",
    "            \n",
    "            cont += 1\n",
    "\n",
    "        return linha_selecionada\n",
    "        "
   ]
  },
  {
   "attachments": {},
   "cell_type": "markdown",
   "metadata": {},
   "source": [
    "Utilize o código abaixo para testar sua classe."
   ]
  },
  {
   "cell_type": "code",
   "execution_count": 51,
   "metadata": {},
   "outputs": [
    {
     "name": "stdout",
     "output_type": "stream",
     "text": [
      "Roda Viva\n",
      "\n",
      "Mas eis que chega a roda viva\n",
      "\n"
     ]
    }
   ],
   "source": [
    "arquivo_texto = ArquivoTexto(arquivo='musica.txt')\n",
    "numero_linha = 1\n",
    "print(arquivo_texto.extrair_linha(numero_linha=numero_linha))\n",
    "# Roda Viva\n",
    "numero_linha = 10\n",
    "print(arquivo_texto.extrair_linha(numero_linha=numero_linha))\n",
    "# Mas eis que chega a roda viva"
   ]
  },
  {
   "attachments": {},
   "cell_type": "markdown",
   "metadata": {},
   "source": [
    "2. Classe para ler arquivos de csv\n",
    "\n",
    "Crie a classe ArquivoCSV . Ela deve extender (herdar) a classe ArquivoTexto para\n",
    "reaproveitar os seus atributos ( self.arquivo e self.conteudo ) e método\n",
    "( self.extrair_linha ). Além disso, adicione o seguinte atributo:\n",
    "    self.colunas : Atributo do tipo list onde os elementos são os nome das colunas;\n",
    "\n",
    "A classe também deve conter o seguinte método:\n",
    "    self.extrair_coluna_da_linha : Método que recebe como parâmetro o numero da\n",
    "    linha e o indice da coluna e retorna o valor em questão."
   ]
  },
  {
   "cell_type": "code",
   "execution_count": 103,
   "metadata": {},
   "outputs": [],
   "source": [
    "class ArquivoCSV(ArquivoTexto):\n",
    "    def __init__(self, arquivo: str):\n",
    "        super().__init__(arquivo=arquivo)\n",
    "        self.colunas = self.extrair_colunas()\n",
    "\n",
    "    def extrair_colunas(self):\n",
    "        conteudo = list()\n",
    "        linha = ArquivoTexto.extrair_conteudo(self)\n",
    "        for coluna in linha:\n",
    "            colunas_separadas = coluna.strip().split(sep=',')\n",
    "            conteudo.append(colunas_separadas)\n",
    "\n",
    "        return conteudo\n",
    "\n",
    "    def extrair_coluna_da_linha(self, numero_linha: int, numero_coluna: int):\n",
    "        linha = ArquivoTexto.extrair_conteudo(self)\n",
    "        cont = 0\n",
    "        conteudo = ''\n",
    "\n",
    "        if numero_linha > len(linha):\n",
    "            return\n",
    "        for coluna in linha:\n",
    "            if cont == numero_linha:\n",
    "                conteudo = coluna.split(sep=',')[numero_coluna-1]\n",
    "            cont += 1\n",
    "\n",
    "        return conteudo"
   ]
  },
  {
   "attachments": {},
   "cell_type": "markdown",
   "metadata": {},
   "source": [
    "Utilize o código abaixo para testar sua classe."
   ]
  },
  {
   "cell_type": "code",
   "execution_count": 104,
   "metadata": {},
   "outputs": [
    {
     "name": "stdout",
     "output_type": "stream",
     "text": [
      "id,valor_venda,valor_manutencao,portas,pessoas,porta_malas\n",
      "\n",
      "[['id', 'valor_venda', 'valor_manutencao', 'portas', 'pessoas', 'porta_malas'], ['1', 'vhigh', 'med', '2', '2', 'small'], ['2', 'med', 'vhigh', '2', '2', 'small'], ['3', 'low', 'vhigh', '2', '2', 'small'], ['4', 'low', 'high', '2', '2', 'small'], ['5', 'low', 'high', '2', '2', 'small'], ['6', 'low', 'high', '4', '4', 'big'], ['7', 'low', 'high', '4', '4', 'big'], ['8', 'low', 'med', '2', '2', 'small'], ['9', 'low', 'med', '2', '2', 'small'], ['10', 'low', 'med', '2', '2', 'small'], ['11', 'low', 'med', '4', '4', 'big'], ['12', 'low', 'low', '2', '2', 'small'], ['13', 'low', 'low', '4', '4', 'small'], ['14', 'low', 'low', '4', '4', 'med']]\n",
      "9,low,med,2,2,small\n",
      "\n",
      "low\n"
     ]
    }
   ],
   "source": [
    "arquivo_csv = ArquivoCSV(arquivo='carros.csv')\n",
    "numero_linha = 1\n",
    "print(arquivo_csv.extrair_linha(numero_linha=numero_linha))\n",
    "# id,valor_venda,valor_manutencao,portas,pessoas,porta_malas\n",
    "print(arquivo_csv.colunas)\n",
    "# [\n",
    "# 'id',\n",
    "# 'valor_venda',\n",
    "# 'valor_manutencao',\n",
    "# 'portas',\n",
    "# 'pessoas',\n",
    "# 'porta_malas'\n",
    "# ]\n",
    "numero_linha = 10\n",
    "print(arquivo_csv.extrair_linha(numero_linha=numero_linha))\n",
    "# 9,low,med,2,2,small\n",
    "numero_linha = 10\n",
    "numero_coluna = 2\n",
    "print(arquivo_csv.extrair_coluna_da_linha(numero_linha=numero_linha,numero_coluna=numero_coluna))\n",
    "# low"
   ]
  }
 ],
 "metadata": {
  "kernelspec": {
   "display_name": "Python 3",
   "language": "python",
   "name": "python3"
  },
  "language_info": {
   "codemirror_mode": {
    "name": "ipython",
    "version": 3
   },
   "file_extension": ".py",
   "mimetype": "text/x-python",
   "name": "python",
   "nbconvert_exporter": "python",
   "pygments_lexer": "ipython3",
   "version": "3.9.6"
  },
  "orig_nbformat": 4
 },
 "nbformat": 4,
 "nbformat_minor": 2
}
